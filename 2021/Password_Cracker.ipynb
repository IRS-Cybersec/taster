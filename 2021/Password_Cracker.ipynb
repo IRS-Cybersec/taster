{
  "nbformat": 4,
  "nbformat_minor": 0,
  "metadata": {
    "colab": {
      "name": "Password Cracker.ipynb",
      "private_outputs": true,
      "provenance": [],
      "collapsed_sections": []
    },
    "kernelspec": {
      "name": "python3",
      "display_name": "Python 3"
    },
    "accelerator": "GPU"
  },
  "cells": [
    {
      "cell_type": "markdown",
      "metadata": {
        "id": "B7uf53YQoakl"
      },
      "source": [
        "# Download `hashcat` software"
      ]
    },
    {
      "cell_type": "code",
      "metadata": {
        "id": "FAzchJtNRpYT"
      },
      "source": [
        "%%bash\n",
        "rm -rf *\n",
        "wget -q https://github.com/hashcat/hashcat/releases/download/v6.1.1/hashcat-6.1.1.7z\n",
        "7zr x -bsp0 -bso0 hashcat-6.1.1.7z\n",
        "chmod a+x hashcat-6.1.1/hashcat.bin\n",
        "nvidia-smi --persistence-mode=ENABLED\n",
        "nvidia-smi"
      ],
      "execution_count": null,
      "outputs": []
    },
    {
      "cell_type": "markdown",
      "metadata": {
        "id": "pdlgAKUQohI0"
      },
      "source": [
        "# Crack the hash"
      ]
    },
    {
      "cell_type": "code",
      "metadata": {
        "id": "F0vPUplzhrKh"
      },
      "source": [
        "%%bash\n",
        "cd hashcat-6.1.1\n",
        "./hashcat.bin -m 0 -a 3 -w 3 -O -o passwd <HASH> ?l?l?l?l?l?l?l?l?l\n",
        "echo === PASSWORD ===\n",
        "cat passwd"
      ],
      "execution_count": null,
      "outputs": []
    }
  ]
}