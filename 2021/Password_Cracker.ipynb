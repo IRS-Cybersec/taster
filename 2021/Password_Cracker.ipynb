{
  "nbformat": 4,
  "nbformat_minor": 0,
  "metadata": {
    "colab": {
      "name": "Password Cracker.ipynb",
      "private_outputs": true,
      "provenance": [],
      "collapsed_sections": [],
      "toc_visible": true
    },
    "kernelspec": {
      "name": "python3",
      "display_name": "Python 3"
    },
    "accelerator": "GPU"
  },
  "cells": [
    {
      "cell_type": "markdown",
      "metadata": {
        "id": "B7uf53YQoakl"
      },
      "source": [
        "# Download `hashcat` software\r\n",
        "Please **do not** run this on your own computer!!"
      ]
    },
    {
      "cell_type": "code",
      "metadata": {
        "id": "FAzchJtNRpYT"
      },
      "source": [
        "%%bash\n",
        "if [[ \"$PWD\" != '/content' ]]; then\n",
        "    echo 'PLEASE RUN THIS ON COLAB'\n",
        "    exit\n",
        "fi\n",
        "rm -rf *\n",
        "wget -q https://github.com/hashcat/hashcat/releases/download/v6.1.1/hashcat-6.1.1.7z\n",
        "7zr x -bsp0 -bso0 hashcat-6.1.1.7z\n",
        "chmod a+x hashcat-6.1.1/hashcat.bin\n",
        "nvidia-smi --persistence-mode=ENABLED\n",
        "nvidia-smi"
      ],
      "execution_count": null,
      "outputs": []
    },
    {
      "cell_type": "markdown",
      "metadata": {
        "id": "pdlgAKUQohI0"
      },
      "source": [
        "# Crack the hash"
      ]
    },
    {
      "cell_type": "code",
      "metadata": {
        "id": "F0vPUplzhrKh"
      },
      "source": [
        "%%bash\n",
        "cd hashcat-6.1.1\n",
        "./hashcat.bin -m 0 -a 3 -w 3 -O -o passwd 9d70afec7b5f1e17f7ab1f01fa063c48 ?l?l?l?l?l?l?l?l?l"
      ],
      "execution_count": null,
      "outputs": []
    },
    {
      "cell_type": "code",
      "metadata": {
        "id": "cyZZkYiK8fMd"
      },
      "source": [
        "%%bash\r\n",
        "cat hashcat-6.1.1/passwd"
      ],
      "execution_count": null,
      "outputs": []
    }
  ]
}